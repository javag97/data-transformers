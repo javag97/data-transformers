{
 "cells": [
  {
   "cell_type": "code",
   "execution_count": 4,
   "id": "c8492003-fc5b-46c6-b79e-3d8e2e8d4db7",
   "metadata": {},
   "outputs": [
    {
     "name": "stdout",
     "output_type": "stream",
     "text": [
      "Looking in indexes: https://test.pypi.org/simple/\n",
      "Collecting masdse203-rdb-to-semi==0.1.3a1\n",
      "  Downloading https://test-files.pythonhosted.org/packages/ac/ed/cfe0a4a93797c8e7c001e8f72b97bd47f936a47b0d5644994a699f476b82/masdse203_rdb_to_semi-0.1.3a1-py3-none-any.whl (4.0 kB)\n",
      "Requirement already satisfied: pandas<=2.1.1 in /Users/javi/anaconda3/lib/python3.9/site-packages (from masdse203-rdb-to-semi==0.1.3a1) (1.4.2)\n",
      "Requirement already satisfied: numpy<=1.26.1 in /Users/javi/anaconda3/lib/python3.9/site-packages (from masdse203-rdb-to-semi==0.1.3a1) (1.21.5)\n",
      "Requirement already satisfied: pytest>=7.1.1 in /Users/javi/anaconda3/lib/python3.9/site-packages (from masdse203-rdb-to-semi==0.1.3a1) (7.1.1)\n",
      "Requirement already satisfied: python-dateutil>=2.8.1 in /Users/javi/anaconda3/lib/python3.9/site-packages (from pandas<=2.1.1->masdse203-rdb-to-semi==0.1.3a1) (2.8.2)\n",
      "Requirement already satisfied: pytz>=2020.1 in /Users/javi/anaconda3/lib/python3.9/site-packages (from pandas<=2.1.1->masdse203-rdb-to-semi==0.1.3a1) (2021.3)\n",
      "Requirement already satisfied: attrs>=19.2.0 in /Users/javi/anaconda3/lib/python3.9/site-packages (from pytest>=7.1.1->masdse203-rdb-to-semi==0.1.3a1) (21.4.0)\n",
      "Requirement already satisfied: iniconfig in /Users/javi/anaconda3/lib/python3.9/site-packages (from pytest>=7.1.1->masdse203-rdb-to-semi==0.1.3a1) (1.1.1)\n",
      "Requirement already satisfied: packaging in /Users/javi/anaconda3/lib/python3.9/site-packages (from pytest>=7.1.1->masdse203-rdb-to-semi==0.1.3a1) (21.3)\n",
      "Requirement already satisfied: pluggy<2.0,>=0.12 in /Users/javi/anaconda3/lib/python3.9/site-packages (from pytest>=7.1.1->masdse203-rdb-to-semi==0.1.3a1) (1.0.0)\n",
      "Requirement already satisfied: py>=1.8.2 in /Users/javi/anaconda3/lib/python3.9/site-packages (from pytest>=7.1.1->masdse203-rdb-to-semi==0.1.3a1) (1.11.0)\n",
      "Requirement already satisfied: tomli>=1.0.0 in /Users/javi/anaconda3/lib/python3.9/site-packages (from pytest>=7.1.1->masdse203-rdb-to-semi==0.1.3a1) (1.2.2)\n",
      "Requirement already satisfied: six>=1.5 in /Users/javi/anaconda3/lib/python3.9/site-packages (from python-dateutil>=2.8.1->pandas<=2.1.1->masdse203-rdb-to-semi==0.1.3a1) (1.16.0)\n",
      "Requirement already satisfied: pyparsing!=3.0.5,>=2.0.2 in /Users/javi/anaconda3/lib/python3.9/site-packages (from packaging->pytest>=7.1.1->masdse203-rdb-to-semi==0.1.3a1) (3.0.4)\n",
      "Installing collected packages: masdse203-rdb-to-semi\n",
      "  Attempting uninstall: masdse203-rdb-to-semi\n",
      "    Found existing installation: masdse203-rdb-to-semi 0.1.3\n",
      "    Uninstalling masdse203-rdb-to-semi-0.1.3:\n",
      "      Successfully uninstalled masdse203-rdb-to-semi-0.1.3\n",
      "Successfully installed masdse203-rdb-to-semi-0.1.3a1\n",
      "Note: you may need to restart the kernel to use updated packages.\n"
     ]
    }
   ],
   "source": [
    "pip install -i https://test.pypi.org/simple/ masdse203-rdb-to-semi==0.1.3a1"
   ]
  },
  {
   "cell_type": "code",
   "execution_count": 9,
   "id": "319bf806-9631-415d-8373-49d4a63ae633",
   "metadata": {},
   "outputs": [],
   "source": [
    "import pandas as pd"
   ]
  },
  {
   "cell_type": "code",
   "execution_count": 5,
   "id": "f8577b0b-687b-4e13-b512-7b5cf2ab31d7",
   "metadata": {},
   "outputs": [
    {
     "name": "stdout",
     "output_type": "stream",
     "text": [
      "Name: masdse203-rdb-to-semi\n",
      "Version: 0.1.3a1\n",
      "Summary: DSE 203 Relational to Semi Structured Transformation\n",
      "Home-page: https://github.com/javag97/data-transformers/\n",
      "Author: Javier Garcia, Brian Qian\n",
      "Author-email: jag043@ucsd.edu\n",
      "License: UNKNOWN\n",
      "Location: /Users/javi/anaconda3/lib/python3.9/site-packages\n",
      "Requires: numpy, pandas, pytest\n",
      "Required-by: \n"
     ]
    }
   ],
   "source": [
    "!pip show masdse203-rdb-to-semi"
   ]
  },
  {
   "cell_type": "code",
   "execution_count": 12,
   "id": "2171f420-2f0d-460e-8eff-d9971f4c5aec",
   "metadata": {},
   "outputs": [],
   "source": [
    "from masdse203_rdb_to_semi.to_json import df_to_json"
   ]
  },
  {
   "cell_type": "code",
   "execution_count": 10,
   "id": "c300a209-2426-45fc-80de-5f92739e01c5",
   "metadata": {},
   "outputs": [],
   "source": [
    "df1 = pd.read_csv('tests/data/two_tables/df_topic.csv')\n",
    "df2 = pd.read_csv(\"tests/data/two_tables/df_doc.csv\")\n",
    "schema = pd.read_csv('tests/data/two_tables/schema.csv')"
   ]
  },
  {
   "cell_type": "code",
   "execution_count": 13,
   "id": "7c313fc6-8cf6-45e9-839c-b496c65a19fd",
   "metadata": {},
   "outputs": [
    {
     "data": {
      "text/plain": [
       "'{\"documents\": [{\"document_id\": 1, \"name_y\": \"aaa\", \"topics\": [{\"name_x\": \"xxx\", \"topic_id\": 1}]}, {\"document_id\": 2, \"name_y\": \"bbb\", \"topics\": [{\"name_x\": \"yyy\", \"topic_id\": 2}, {\"name_x\": \"zzz\", \"topic_id\": 3}]}]}'"
      ]
     },
     "execution_count": 13,
     "metadata": {},
     "output_type": "execute_result"
    }
   ],
   "source": [
    "df_to_json(df1, df2, db_schema=schema)"
   ]
  }
 ],
 "metadata": {
  "kernelspec": {
   "display_name": "Python 3 (ipykernel)",
   "language": "python",
   "name": "python3"
  },
  "language_info": {
   "codemirror_mode": {
    "name": "ipython",
    "version": 3
   },
   "file_extension": ".py",
   "mimetype": "text/x-python",
   "name": "python",
   "nbconvert_exporter": "python",
   "pygments_lexer": "ipython3",
   "version": "3.9.12"
  }
 },
 "nbformat": 4,
 "nbformat_minor": 5
}
