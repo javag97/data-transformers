{
 "cells": [
  {
   "cell_type": "code",
   "execution_count": 2,
   "id": "1f2d29c6-6155-451b-ab28-49af790845b3",
   "metadata": {},
   "outputs": [
    {
     "name": "stdout",
     "output_type": "stream",
     "text": [
      "Processing c:\\users\\brian\\documents\\data-transformers\\dist\\masdse203_rdb_to_semi-0.1.0.tar.gz\n",
      "  Preparing metadata (setup.py): started\n",
      "  Preparing metadata (setup.py): finished with status 'done'\n",
      "Requirement already satisfied: pytest>=7.1.1 in c:\\users\\brian\\anaconda3\\envs\\new\\lib\\site-packages (from masdse203-rdb-to-semi==0.1.0) (7.4.2)\n",
      "Requirement already satisfied: bigtree>=0.13.0 in c:\\users\\brian\\anaconda3\\envs\\new\\lib\\site-packages (from masdse203-rdb-to-semi==0.1.0) (0.13.0)\n",
      "Requirement already satisfied: numpy<=1.26.1 in c:\\users\\brian\\anaconda3\\envs\\new\\lib\\site-packages (from masdse203-rdb-to-semi==0.1.0) (1.23.5)\n",
      "Requirement already satisfied: pandas<=2.1.1 in c:\\users\\brian\\anaconda3\\envs\\new\\lib\\site-packages (from masdse203-rdb-to-semi==0.1.0) (2.0.1)\n",
      "Requirement already satisfied: python-dateutil>=2.8.2 in c:\\users\\brian\\anaconda3\\envs\\new\\lib\\site-packages (from pandas<=2.1.1->masdse203-rdb-to-semi==0.1.0) (2.8.2)\n",
      "Requirement already satisfied: tzdata>=2022.1 in c:\\users\\brian\\anaconda3\\envs\\new\\lib\\site-packages (from pandas<=2.1.1->masdse203-rdb-to-semi==0.1.0) (2023.3)\n",
      "Requirement already satisfied: pytz>=2020.1 in c:\\users\\brian\\anaconda3\\envs\\new\\lib\\site-packages (from pandas<=2.1.1->masdse203-rdb-to-semi==0.1.0) (2023.3)\n",
      "Requirement already satisfied: iniconfig in c:\\users\\brian\\anaconda3\\envs\\new\\lib\\site-packages (from pytest>=7.1.1->masdse203-rdb-to-semi==0.1.0) (2.0.0)\n",
      "Requirement already satisfied: colorama in c:\\users\\brian\\anaconda3\\envs\\new\\lib\\site-packages (from pytest>=7.1.1->masdse203-rdb-to-semi==0.1.0) (0.4.6)\n",
      "Requirement already satisfied: pluggy<2.0,>=0.12 in c:\\users\\brian\\anaconda3\\envs\\new\\lib\\site-packages (from pytest>=7.1.1->masdse203-rdb-to-semi==0.1.0) (1.3.0)\n",
      "Requirement already satisfied: exceptiongroup>=1.0.0rc8 in c:\\users\\brian\\anaconda3\\envs\\new\\lib\\site-packages (from pytest>=7.1.1->masdse203-rdb-to-semi==0.1.0) (1.1.3)\n",
      "Requirement already satisfied: packaging in c:\\users\\brian\\anaconda3\\envs\\new\\lib\\site-packages (from pytest>=7.1.1->masdse203-rdb-to-semi==0.1.0) (23.0)\n",
      "Requirement already satisfied: tomli>=1.0.0 in c:\\users\\brian\\anaconda3\\envs\\new\\lib\\site-packages (from pytest>=7.1.1->masdse203-rdb-to-semi==0.1.0) (2.0.1)\n",
      "Requirement already satisfied: six>=1.5 in c:\\users\\brian\\anaconda3\\envs\\new\\lib\\site-packages (from python-dateutil>=2.8.2->pandas<=2.1.1->masdse203-rdb-to-semi==0.1.0) (1.16.0)\n",
      "Building wheels for collected packages: masdse203-rdb-to-semi\n",
      "  Building wheel for masdse203-rdb-to-semi (setup.py): started\n",
      "  Building wheel for masdse203-rdb-to-semi (setup.py): finished with status 'done'\n",
      "  Created wheel for masdse203-rdb-to-semi: filename=masdse203_rdb_to_semi-0.1.0-py3-none-any.whl size=4227 sha256=323fbd3f7f403a96bb02ead42077ef4150c95121c27c3e1298e7fff0ad617490\n",
      "  Stored in directory: c:\\users\\brian\\appdata\\local\\pip\\cache\\wheels\\b6\\5c\\31\\c5a23746d7d97a9315fb8267d75be258810fa04b5cef690073\n",
      "Successfully built masdse203-rdb-to-semi\n",
      "Installing collected packages: masdse203-rdb-to-semi\n",
      "  Attempting uninstall: masdse203-rdb-to-semi\n",
      "    Found existing installation: masdse203-rdb-to-semi 0.1.0\n",
      "    Uninstalling masdse203-rdb-to-semi-0.1.0:\n",
      "      Successfully uninstalled masdse203-rdb-to-semi-0.1.0\n",
      "Successfully installed masdse203-rdb-to-semi-0.1.0\n",
      "Note: you may need to restart the kernel to use updated packages.\n"
     ]
    }
   ],
   "source": [
    "pip install ./dist/masdse203_rdb_to_semi-0.1.0.tar.gz\n"
   ]
  },
  {
   "cell_type": "code",
   "execution_count": 1,
   "id": "a6292925-f596-432c-a661-ef667a4f3726",
   "metadata": {},
   "outputs": [
    {
     "name": "stdout",
     "output_type": "stream",
     "text": [
      "Name: masdse203-rdb-to-semi\n",
      "Version: 0.1.0\n",
      "Summary: DSE 203 Relational to Semi Structured Transformation\n",
      "Home-page: \n",
      "Author: Javier Garcia, Brian Qian\n",
      "Author-email: \n",
      "License: \n",
      "Location: c:\\users\\brian\\anaconda3\\envs\\new\\lib\\site-packages\n",
      "Requires: bigtree, numpy, pandas, pytest\n",
      "Required-by: \n"
     ]
    }
   ],
   "source": [
    "!pip show masdse203-rdb-to-semi"
   ]
  },
  {
   "cell_type": "code",
   "execution_count": 6,
   "id": "47a28f8c-4021-4219-9d45-ef026c7f340f",
   "metadata": {},
   "outputs": [
    {
     "ename": "ModuleNotFoundError",
     "evalue": "No module named 'masdse203_rdb_to_semi'",
     "output_type": "error",
     "traceback": [
      "\u001b[1;31m---------------------------------------------------------------------------\u001b[0m",
      "\u001b[1;31mModuleNotFoundError\u001b[0m                       Traceback (most recent call last)",
      "Cell \u001b[1;32mIn[6], line 1\u001b[0m\n\u001b[1;32m----> 1\u001b[0m \u001b[38;5;28;01mfrom\u001b[39;00m \u001b[38;5;21;01mmasdse203_rdb_to_semi\u001b[39;00m \u001b[38;5;28;01mimport\u001b[39;00m csv_to_json\n",
      "\u001b[1;31mModuleNotFoundError\u001b[0m: No module named 'masdse203_rdb_to_semi'"
     ]
    }
   ],
   "source": [
    "import masdse203_rdb_to_semi "
   ]
  },
  {
   "cell_type": "code",
   "execution_count": 4,
   "id": "3bcf24ca-642f-4ae2-926f-9a0d13966fe2",
   "metadata": {},
   "outputs": [
    {
     "name": "stdout",
     "output_type": "stream",
     "text": [
      "The list of imported Python modules are : ['In', 'Out', '_', '__', '___', '__builtin__', '__builtins__', '__doc__', '__loader__', '__name__', '__package__', '__spec__', '_dh', '_exit_code', '_i', '_i1', '_i2', '_i3', '_i4', '_ih', '_ii', '_iii', '_oh', 'exit', 'get_ipython', 'open', 'quit']\n"
     ]
    }
   ],
   "source": [
    "module = dir()\n",
    "print('The list of imported Python modules are :',module)"
   ]
  },
  {
   "cell_type": "code",
   "execution_count": null,
   "id": "d600e531-5ab9-43ff-ac4a-25d2f7575880",
   "metadata": {},
   "outputs": [],
   "source": []
  }
 ],
 "metadata": {
  "kernelspec": {
   "display_name": "Python 3 (ipykernel)",
   "language": "python",
   "name": "python3"
  },
  "language_info": {
   "codemirror_mode": {
    "name": "ipython",
    "version": 3
   },
   "file_extension": ".py",
   "mimetype": "text/x-python",
   "name": "python",
   "nbconvert_exporter": "python",
   "pygments_lexer": "ipython3",
   "version": "3.8.16"
  }
 },
 "nbformat": 4,
 "nbformat_minor": 5
}
