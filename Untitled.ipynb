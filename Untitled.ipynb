{
 "cells": [
  {
   "cell_type": "code",
   "execution_count": 2,
   "id": "1f2d29c6-6155-451b-ab28-49af790845b3",
   "metadata": {},
   "outputs": [
    {
     "name": "stdout",
     "output_type": "stream",
     "text": [
      "Processing ./dist/masdse203_rdb_to_semi-0.1.2.tar.gz\n",
      "Requirement already satisfied: pytest>=7.1.1 in /Users/javi/anaconda3/lib/python3.9/site-packages (from masdse203-rdb-to-semi==0.1.2) (7.1.1)\n",
      "Requirement already satisfied: bigtree>=0.13.0 in /Users/javi/anaconda3/lib/python3.9/site-packages (from masdse203-rdb-to-semi==0.1.2) (0.13.0)\n",
      "Requirement already satisfied: numpy<=1.26.1 in /Users/javi/anaconda3/lib/python3.9/site-packages (from masdse203-rdb-to-semi==0.1.2) (1.21.5)\n",
      "Requirement already satisfied: pandas<=2.1.1 in /Users/javi/anaconda3/lib/python3.9/site-packages (from masdse203-rdb-to-semi==0.1.2) (1.4.2)\n",
      "Requirement already satisfied: python-dateutil>=2.8.1 in /Users/javi/anaconda3/lib/python3.9/site-packages (from pandas<=2.1.1->masdse203-rdb-to-semi==0.1.2) (2.8.2)\n",
      "Requirement already satisfied: pytz>=2020.1 in /Users/javi/anaconda3/lib/python3.9/site-packages (from pandas<=2.1.1->masdse203-rdb-to-semi==0.1.2) (2021.3)\n",
      "Requirement already satisfied: attrs>=19.2.0 in /Users/javi/anaconda3/lib/python3.9/site-packages (from pytest>=7.1.1->masdse203-rdb-to-semi==0.1.2) (21.4.0)\n",
      "Requirement already satisfied: iniconfig in /Users/javi/anaconda3/lib/python3.9/site-packages (from pytest>=7.1.1->masdse203-rdb-to-semi==0.1.2) (1.1.1)\n",
      "Requirement already satisfied: packaging in /Users/javi/anaconda3/lib/python3.9/site-packages (from pytest>=7.1.1->masdse203-rdb-to-semi==0.1.2) (21.3)\n",
      "Requirement already satisfied: pluggy<2.0,>=0.12 in /Users/javi/anaconda3/lib/python3.9/site-packages (from pytest>=7.1.1->masdse203-rdb-to-semi==0.1.2) (1.0.0)\n",
      "Requirement already satisfied: py>=1.8.2 in /Users/javi/anaconda3/lib/python3.9/site-packages (from pytest>=7.1.1->masdse203-rdb-to-semi==0.1.2) (1.11.0)\n",
      "Requirement already satisfied: tomli>=1.0.0 in /Users/javi/anaconda3/lib/python3.9/site-packages (from pytest>=7.1.1->masdse203-rdb-to-semi==0.1.2) (1.2.2)\n",
      "Requirement already satisfied: six>=1.5 in /Users/javi/anaconda3/lib/python3.9/site-packages (from python-dateutil>=2.8.1->pandas<=2.1.1->masdse203-rdb-to-semi==0.1.2) (1.16.0)\n",
      "Requirement already satisfied: pyparsing!=3.0.5,>=2.0.2 in /Users/javi/anaconda3/lib/python3.9/site-packages (from packaging->pytest>=7.1.1->masdse203-rdb-to-semi==0.1.2) (3.0.4)\n",
      "\u001b[33mDEPRECATION: Source distribution is being reinstalled despite an installed package having the same name and version as the installed package. pip 21.3 will remove support for this functionality. A possible replacement is use --force-reinstall. You can find discussion regarding this at https://github.com/pypa/pip/issues/8711.\u001b[0m\n",
      "Building wheels for collected packages: masdse203-rdb-to-semi\n",
      "  Building wheel for masdse203-rdb-to-semi (setup.py) ... \u001b[?25ldone\n",
      "\u001b[?25h  Created wheel for masdse203-rdb-to-semi: filename=masdse203_rdb_to_semi-0.1.2-py3-none-any.whl size=2101 sha256=eb7adfee4c24ec07292d93c8a709d5e5fcd6dab2e98871b3bac4e239f22999ec\n",
      "  Stored in directory: /Users/javi/Library/Caches/pip/wheels/f6/c6/d3/2816a2dc39095f98a1418930224b683fd8dd8e23c0c4fc7d22\n",
      "Successfully built masdse203-rdb-to-semi\n",
      "Installing collected packages: masdse203-rdb-to-semi\n",
      "  Attempting uninstall: masdse203-rdb-to-semi\n",
      "    Found existing installation: masdse203-rdb-to-semi 0.1.2\n",
      "    Uninstalling masdse203-rdb-to-semi-0.1.2:\n",
      "      Successfully uninstalled masdse203-rdb-to-semi-0.1.2\n",
      "Successfully installed masdse203-rdb-to-semi-0.1.2\n",
      "Note: you may need to restart the kernel to use updated packages.\n"
     ]
    }
   ],
   "source": [
    "pip install ./dist/masdse203_rdb_to_semi-0.1.2.tar.gz\n"
   ]
  },
  {
   "cell_type": "code",
   "execution_count": 10,
   "id": "47a28f8c-4021-4219-9d45-ef026c7f340f",
   "metadata": {},
   "outputs": [
    {
     "ename": "ModuleNotFoundError",
     "evalue": "No module named 'masdse203_rdb_to_semi'",
     "output_type": "error",
     "traceback": [
      "\u001b[0;31m---------------------------------------------------------------------------\u001b[0m",
      "\u001b[0;31mModuleNotFoundError\u001b[0m                       Traceback (most recent call last)",
      "Input \u001b[0;32mIn [10]\u001b[0m, in \u001b[0;36m<cell line: 1>\u001b[0;34m()\u001b[0m\n\u001b[0;32m----> 1\u001b[0m \u001b[38;5;28;01mimport\u001b[39;00m \u001b[38;5;21;01mmasdse203_rdb_to_semi\u001b[39;00m\n",
      "\u001b[0;31mModuleNotFoundError\u001b[0m: No module named 'masdse203_rdb_to_semi'"
     ]
    }
   ],
   "source": [
    "import masdse203_rdb_to_semi"
   ]
  }
 ],
 "metadata": {
  "kernelspec": {
   "display_name": "Python 3 (ipykernel)",
   "language": "python",
   "name": "python3"
  },
  "language_info": {
   "codemirror_mode": {
    "name": "ipython",
    "version": 3
   },
   "file_extension": ".py",
   "mimetype": "text/x-python",
   "name": "python",
   "nbconvert_exporter": "python",
   "pygments_lexer": "ipython3",
   "version": "3.9.12"
  }
 },
 "nbformat": 4,
 "nbformat_minor": 5
}
