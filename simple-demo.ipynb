{
 "cells": [
  {
   "cell_type": "code",
   "execution_count": 1,
   "id": "c8492003-fc5b-46c6-b79e-3d8e2e8d4db7",
   "metadata": {},
   "outputs": [
    {
     "name": "stdout",
     "output_type": "stream",
     "text": [
      "Looking in indexes: https://test.pypi.org/simple/\n",
      "Requirement already satisfied: masdse203-rdb-to-semi in c:\\users\\brian\\anaconda3\\envs\\new\\lib\\site-packages (0.1.0)\n",
      "Collecting masdse203-rdb-to-semi\n",
      "  Downloading https://test-files.pythonhosted.org/packages/28/7d/0083d692bbe5cfb7020556e6fb4577e6d3ceb010607c169d4b5566fffeb0/masdse203_rdb_to_semi-0.1.2-py3-none-any.whl (2.1 kB)\n",
      "Requirement already satisfied: bigtree>=0.13.0 in c:\\users\\brian\\anaconda3\\envs\\new\\lib\\site-packages (from masdse203-rdb-to-semi) (0.13.0)\n",
      "Requirement already satisfied: pytest>=7.1.1 in c:\\users\\brian\\anaconda3\\envs\\new\\lib\\site-packages (from masdse203-rdb-to-semi) (7.4.2)\n",
      "Requirement already satisfied: numpy<=1.26.1 in c:\\users\\brian\\anaconda3\\envs\\new\\lib\\site-packages (from masdse203-rdb-to-semi) (1.23.5)\n",
      "Requirement already satisfied: pandas<=2.1.1 in c:\\users\\brian\\anaconda3\\envs\\new\\lib\\site-packages (from masdse203-rdb-to-semi) (2.0.1)\n",
      "Requirement already satisfied: tzdata>=2022.1 in c:\\users\\brian\\anaconda3\\envs\\new\\lib\\site-packages (from pandas<=2.1.1->masdse203-rdb-to-semi) (2023.3)\n",
      "Requirement already satisfied: python-dateutil>=2.8.2 in c:\\users\\brian\\anaconda3\\envs\\new\\lib\\site-packages (from pandas<=2.1.1->masdse203-rdb-to-semi) (2.8.2)\n",
      "Requirement already satisfied: pytz>=2020.1 in c:\\users\\brian\\anaconda3\\envs\\new\\lib\\site-packages (from pandas<=2.1.1->masdse203-rdb-to-semi) (2023.3)\n",
      "Requirement already satisfied: packaging in c:\\users\\brian\\anaconda3\\envs\\new\\lib\\site-packages (from pytest>=7.1.1->masdse203-rdb-to-semi) (23.0)\n",
      "Requirement already satisfied: pluggy<2.0,>=0.12 in c:\\users\\brian\\anaconda3\\envs\\new\\lib\\site-packages (from pytest>=7.1.1->masdse203-rdb-to-semi) (1.3.0)\n",
      "Requirement already satisfied: colorama in c:\\users\\brian\\anaconda3\\envs\\new\\lib\\site-packages (from pytest>=7.1.1->masdse203-rdb-to-semi) (0.4.6)\n",
      "Requirement already satisfied: exceptiongroup>=1.0.0rc8 in c:\\users\\brian\\anaconda3\\envs\\new\\lib\\site-packages (from pytest>=7.1.1->masdse203-rdb-to-semi) (1.1.3)\n",
      "Requirement already satisfied: tomli>=1.0.0 in c:\\users\\brian\\anaconda3\\envs\\new\\lib\\site-packages (from pytest>=7.1.1->masdse203-rdb-to-semi) (2.0.1)\n",
      "Requirement already satisfied: iniconfig in c:\\users\\brian\\anaconda3\\envs\\new\\lib\\site-packages (from pytest>=7.1.1->masdse203-rdb-to-semi) (2.0.0)\n",
      "Requirement already satisfied: six>=1.5 in c:\\users\\brian\\anaconda3\\envs\\new\\lib\\site-packages (from python-dateutil>=2.8.2->pandas<=2.1.1->masdse203-rdb-to-semi) (1.16.0)\n",
      "Installing collected packages: masdse203-rdb-to-semi\n",
      "  Attempting uninstall: masdse203-rdb-to-semi\n",
      "    Found existing installation: masdse203-rdb-to-semi 0.1.0\n",
      "    Uninstalling masdse203-rdb-to-semi-0.1.0:\n",
      "      Successfully uninstalled masdse203-rdb-to-semi-0.1.0\n",
      "Successfully installed masdse203-rdb-to-semi-0.1.2\n",
      "Note: you may need to restart the kernel to use updated packages.\n"
     ]
    }
   ],
   "source": [
    "pip install -i https://test.pypi.org/simple/ masdse203-rdb-to-semi --upgrade"
   ]
  },
  {
   "cell_type": "code",
   "execution_count": 1,
   "id": "319bf806-9631-415d-8373-49d4a63ae633",
   "metadata": {},
   "outputs": [],
   "source": [
    "import pandas as pd"
   ]
  },
  {
   "cell_type": "code",
   "execution_count": 7,
   "id": "3621fda1-270b-4e66-80c8-39fbeddc6c1d",
   "metadata": {},
   "outputs": [
    {
     "ename": "ModuleNotFoundError",
     "evalue": "No module named 'masdse203_rdb_to_semi'",
     "output_type": "error",
     "traceback": [
      "\u001b[1;31m---------------------------------------------------------------------------\u001b[0m",
      "\u001b[1;31mModuleNotFoundError\u001b[0m                       Traceback (most recent call last)",
      "Cell \u001b[1;32mIn[7], line 1\u001b[0m\n\u001b[1;32m----> 1\u001b[0m \u001b[38;5;28;01mimport\u001b[39;00m \u001b[38;5;21;01mmasdse203_rdb_to_semi\u001b[39;00m\n",
      "\u001b[1;31mModuleNotFoundError\u001b[0m: No module named 'masdse203_rdb_to_semi'"
     ]
    }
   ],
   "source": [
    "import masdse203_rdb_to_semi"
   ]
  },
  {
   "cell_type": "code",
   "execution_count": 3,
   "id": "f8577b0b-687b-4e13-b512-7b5cf2ab31d7",
   "metadata": {},
   "outputs": [
    {
     "name": "stdout",
     "output_type": "stream",
     "text": [
      "Name: masdse203-rdb-to-semi\n",
      "Version: 0.1.2\n",
      "Summary: DSE 203 Relational to Semi Structured Transformation\n",
      "Home-page: \n",
      "Author: Javier Garcia, Brian Qian\n",
      "Author-email: \n",
      "License: UNKNOWN\n",
      "Location: c:\\users\\brian\\anaconda3\\envs\\new\\lib\\site-packages\n",
      "Requires: bigtree, numpy, pandas, pytest\n",
      "Required-by: \n"
     ]
    }
   ],
   "source": [
    "!pip show masdse203-rdb-to-semi"
   ]
  },
  {
   "cell_type": "code",
   "execution_count": 5,
   "id": "2171f420-2f0d-460e-8eff-d9971f4c5aec",
   "metadata": {},
   "outputs": [
    {
     "ename": "ModuleNotFoundError",
     "evalue": "No module named 'masdse203_rdb_to_semi'",
     "output_type": "error",
     "traceback": [
      "\u001b[1;31m---------------------------------------------------------------------------\u001b[0m",
      "\u001b[1;31mModuleNotFoundError\u001b[0m                       Traceback (most recent call last)",
      "Cell \u001b[1;32mIn[5], line 1\u001b[0m\n\u001b[1;32m----> 1\u001b[0m \u001b[38;5;28;01mimport\u001b[39;00m \u001b[38;5;21;01mmasdse203_rdb_to_semi\u001b[39;00m\n",
      "\u001b[1;31mModuleNotFoundError\u001b[0m: No module named 'masdse203_rdb_to_semi'"
     ]
    }
   ],
   "source": [
    "import masdse203_rdb_to_semi"
   ]
  },
  {
   "cell_type": "code",
   "execution_count": null,
   "id": "c300a209-2426-45fc-80de-5f92739e01c5",
   "metadata": {},
   "outputs": [],
   "source": [
    "df1 = pd.read_csv('tests/data/two_tables/df_topic.csv')\n",
    "df2 = pd.read_csv(\"tests/data/two_tables/df_doc.csv\")\n",
    "schema = pd.read_csv('tests/data/two_tables/schema.csv')"
   ]
  }
 ],
 "metadata": {
  "kernelspec": {
   "display_name": "Python 3 (ipykernel)",
   "language": "python",
   "name": "python3"
  },
  "language_info": {
   "codemirror_mode": {
    "name": "ipython",
    "version": 3
   },
   "file_extension": ".py",
   "mimetype": "text/x-python",
   "name": "python",
   "nbconvert_exporter": "python",
   "pygments_lexer": "ipython3",
   "version": "3.8.16"
  }
 },
 "nbformat": 4,
 "nbformat_minor": 5
}
