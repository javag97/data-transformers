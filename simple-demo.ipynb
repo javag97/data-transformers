{
 "cells": [
  {
   "cell_type": "code",
   "execution_count": 7,
   "id": "c8492003-fc5b-46c6-b79e-3d8e2e8d4db7",
   "metadata": {},
   "outputs": [
    {
     "name": "stdout",
     "output_type": "stream",
     "text": [
      "Looking in indexes: https://test.pypi.org/simple/\n",
      "Requirement already satisfied: masdse203-rdb-to-semi in /Users/javi/anaconda3/lib/python3.9/site-packages (0.1.2)\n",
      "Requirement already satisfied: pandas<=2.1.1 in /Users/javi/anaconda3/lib/python3.9/site-packages (from masdse203-rdb-to-semi) (1.4.2)\n",
      "Requirement already satisfied: numpy<=1.26.1 in /Users/javi/anaconda3/lib/python3.9/site-packages (from masdse203-rdb-to-semi) (1.21.5)\n",
      "Requirement already satisfied: bigtree>=0.13.0 in /Users/javi/anaconda3/lib/python3.9/site-packages (from masdse203-rdb-to-semi) (0.13.0)\n",
      "Requirement already satisfied: pytest>=7.1.1 in /Users/javi/anaconda3/lib/python3.9/site-packages (from masdse203-rdb-to-semi) (7.1.1)\n",
      "Requirement already satisfied: python-dateutil>=2.8.1 in /Users/javi/anaconda3/lib/python3.9/site-packages (from pandas<=2.1.1->masdse203-rdb-to-semi) (2.8.2)\n",
      "Requirement already satisfied: pytz>=2020.1 in /Users/javi/anaconda3/lib/python3.9/site-packages (from pandas<=2.1.1->masdse203-rdb-to-semi) (2021.3)\n",
      "Requirement already satisfied: attrs>=19.2.0 in /Users/javi/anaconda3/lib/python3.9/site-packages (from pytest>=7.1.1->masdse203-rdb-to-semi) (21.4.0)\n",
      "Requirement already satisfied: iniconfig in /Users/javi/anaconda3/lib/python3.9/site-packages (from pytest>=7.1.1->masdse203-rdb-to-semi) (1.1.1)\n",
      "Requirement already satisfied: packaging in /Users/javi/anaconda3/lib/python3.9/site-packages (from pytest>=7.1.1->masdse203-rdb-to-semi) (21.3)\n",
      "Requirement already satisfied: pluggy<2.0,>=0.12 in /Users/javi/anaconda3/lib/python3.9/site-packages (from pytest>=7.1.1->masdse203-rdb-to-semi) (1.0.0)\n",
      "Requirement already satisfied: py>=1.8.2 in /Users/javi/anaconda3/lib/python3.9/site-packages (from pytest>=7.1.1->masdse203-rdb-to-semi) (1.11.0)\n",
      "Requirement already satisfied: tomli>=1.0.0 in /Users/javi/anaconda3/lib/python3.9/site-packages (from pytest>=7.1.1->masdse203-rdb-to-semi) (1.2.2)\n",
      "Requirement already satisfied: six>=1.5 in /Users/javi/anaconda3/lib/python3.9/site-packages (from python-dateutil>=2.8.1->pandas<=2.1.1->masdse203-rdb-to-semi) (1.16.0)\n",
      "Requirement already satisfied: pyparsing!=3.0.5,>=2.0.2 in /Users/javi/anaconda3/lib/python3.9/site-packages (from packaging->pytest>=7.1.1->masdse203-rdb-to-semi) (3.0.4)\n",
      "Note: you may need to restart the kernel to use updated packages.\n"
     ]
    }
   ],
   "source": [
    "pip install -i https://test.pypi.org/simple/ masdse203-rdb-to-semi --upgrade"
   ]
  },
  {
   "cell_type": "code",
   "execution_count": 3,
   "id": "319bf806-9631-415d-8373-49d4a63ae633",
   "metadata": {},
   "outputs": [],
   "source": [
    "import pandas as pd"
   ]
  },
  {
   "cell_type": "code",
   "execution_count": 4,
   "id": "3621fda1-270b-4e66-80c8-39fbeddc6c1d",
   "metadata": {},
   "outputs": [
    {
     "ename": "ModuleNotFoundError",
     "evalue": "No module named 'masdse203_rdb_to_semi'",
     "output_type": "error",
     "traceback": [
      "\u001b[0;31m---------------------------------------------------------------------------\u001b[0m",
      "\u001b[0;31mModuleNotFoundError\u001b[0m                       Traceback (most recent call last)",
      "Input \u001b[0;32mIn [4]\u001b[0m, in \u001b[0;36m<cell line: 1>\u001b[0;34m()\u001b[0m\n\u001b[0;32m----> 1\u001b[0m \u001b[38;5;28;01mimport\u001b[39;00m \u001b[38;5;21;01mmasdse203_rdb_to_semi\u001b[39;00m\n",
      "\u001b[0;31mModuleNotFoundError\u001b[0m: No module named 'masdse203_rdb_to_semi'"
     ]
    }
   ],
   "source": [
    "import masdse203_rdb_to_semi"
   ]
  },
  {
   "cell_type": "code",
   "execution_count": 10,
   "id": "f8577b0b-687b-4e13-b512-7b5cf2ab31d7",
   "metadata": {},
   "outputs": [
    {
     "name": "stdout",
     "output_type": "stream",
     "text": [
      "Name: masdse203-rdb-to-semi\n",
      "Version: 0.1.2\n",
      "Summary: DSE 203 Relational to Semi Structured Transformation\n",
      "Home-page: \n",
      "Author: Javier Garcia, Brian Qian\n",
      "Author-email: \n",
      "License: UNKNOWN\n",
      "Location: /Users/javi/anaconda3/lib/python3.9/site-packages\n",
      "Requires: pytest, numpy, pandas, bigtree\n",
      "Required-by: \n"
     ]
    }
   ],
   "source": [
    "!pip show masdse203-rdb-to-semi"
   ]
  },
  {
   "cell_type": "code",
   "execution_count": 9,
   "id": "2171f420-2f0d-460e-8eff-d9971f4c5aec",
   "metadata": {},
   "outputs": [
    {
     "ename": "ModuleNotFoundError",
     "evalue": "No module named 'masdse203_rdb_to_semi'",
     "output_type": "error",
     "traceback": [
      "\u001b[0;31m---------------------------------------------------------------------------\u001b[0m",
      "\u001b[0;31mModuleNotFoundError\u001b[0m                       Traceback (most recent call last)",
      "Input \u001b[0;32mIn [9]\u001b[0m, in \u001b[0;36m<cell line: 1>\u001b[0;34m()\u001b[0m\n\u001b[0;32m----> 1\u001b[0m \u001b[38;5;28;01mimport\u001b[39;00m \u001b[38;5;21;01mmasdse203_rdb_to_semi\u001b[39;00m\n",
      "\u001b[0;31mModuleNotFoundError\u001b[0m: No module named 'masdse203_rdb_to_semi'"
     ]
    }
   ],
   "source": [
    "import masdse203_rdb_to_semi"
   ]
  },
  {
   "cell_type": "code",
   "execution_count": null,
   "id": "c300a209-2426-45fc-80de-5f92739e01c5",
   "metadata": {},
   "outputs": [],
   "source": [
    "df1 = pd.read_csv('tests/data/two_tables/df_topic.csv')\n",
    "df2 = pd.read_csv(\"tests/data/two_tables/df_doc.csv\")\n",
    "schema = pd.read_csv('tests/data/two_tables/schema.csv')"
   ]
  }
 ],
 "metadata": {
  "kernelspec": {
   "display_name": "Python 3 (ipykernel)",
   "language": "python",
   "name": "python3"
  },
  "language_info": {
   "codemirror_mode": {
    "name": "ipython",
    "version": 3
   },
   "file_extension": ".py",
   "mimetype": "text/x-python",
   "name": "python",
   "nbconvert_exporter": "python",
   "pygments_lexer": "ipython3",
   "version": "3.9.12"
  }
 },
 "nbformat": 4,
 "nbformat_minor": 5
}
