{
 "cells": [
  {
   "cell_type": "code",
   "execution_count": 9,
   "id": "c8492003-fc5b-46c6-b79e-3d8e2e8d4db7",
   "metadata": {},
   "outputs": [
    {
     "name": "stdout",
     "output_type": "stream",
     "text": [
      "Looking in indexes: https://test.pypi.org/simple/\n",
      "Requirement already satisfied: masdse203-rdb-to-semi==0.1.3a1 in c:\\users\\brian\\anaconda3\\envs\\new\\lib\\site-packages (0.1.3a1)\n",
      "Requirement already satisfied: numpy<=1.26.1 in c:\\users\\brian\\anaconda3\\envs\\new\\lib\\site-packages (from masdse203-rdb-to-semi==0.1.3a1) (1.23.5)\n",
      "Requirement already satisfied: pytest>=7.1.1 in c:\\users\\brian\\anaconda3\\envs\\new\\lib\\site-packages (from masdse203-rdb-to-semi==0.1.3a1) (7.4.2)\n",
      "Requirement already satisfied: pandas<=2.1.1 in c:\\users\\brian\\anaconda3\\envs\\new\\lib\\site-packages (from masdse203-rdb-to-semi==0.1.3a1) (2.0.1)\n",
      "Requirement already satisfied: python-dateutil>=2.8.2 in c:\\users\\brian\\anaconda3\\envs\\new\\lib\\site-packages (from pandas<=2.1.1->masdse203-rdb-to-semi==0.1.3a1) (2.8.2)\n",
      "Requirement already satisfied: pytz>=2020.1 in c:\\users\\brian\\anaconda3\\envs\\new\\lib\\site-packages (from pandas<=2.1.1->masdse203-rdb-to-semi==0.1.3a1) (2023.3)\n",
      "Requirement already satisfied: tzdata>=2022.1 in c:\\users\\brian\\anaconda3\\envs\\new\\lib\\site-packages (from pandas<=2.1.1->masdse203-rdb-to-semi==0.1.3a1) (2023.3)\n",
      "Requirement already satisfied: iniconfig in c:\\users\\brian\\anaconda3\\envs\\new\\lib\\site-packages (from pytest>=7.1.1->masdse203-rdb-to-semi==0.1.3a1) (2.0.0)\n",
      "Requirement already satisfied: exceptiongroup>=1.0.0rc8 in c:\\users\\brian\\anaconda3\\envs\\new\\lib\\site-packages (from pytest>=7.1.1->masdse203-rdb-to-semi==0.1.3a1) (1.1.3)\n",
      "Requirement already satisfied: pluggy<2.0,>=0.12 in c:\\users\\brian\\anaconda3\\envs\\new\\lib\\site-packages (from pytest>=7.1.1->masdse203-rdb-to-semi==0.1.3a1) (1.3.0)\n",
      "Requirement already satisfied: colorama in c:\\users\\brian\\anaconda3\\envs\\new\\lib\\site-packages (from pytest>=7.1.1->masdse203-rdb-to-semi==0.1.3a1) (0.4.6)\n",
      "Requirement already satisfied: tomli>=1.0.0 in c:\\users\\brian\\anaconda3\\envs\\new\\lib\\site-packages (from pytest>=7.1.1->masdse203-rdb-to-semi==0.1.3a1) (2.0.1)\n",
      "Requirement already satisfied: packaging in c:\\users\\brian\\anaconda3\\envs\\new\\lib\\site-packages (from pytest>=7.1.1->masdse203-rdb-to-semi==0.1.3a1) (23.0)\n",
      "Requirement already satisfied: six>=1.5 in c:\\users\\brian\\anaconda3\\envs\\new\\lib\\site-packages (from python-dateutil>=2.8.2->pandas<=2.1.1->masdse203-rdb-to-semi==0.1.3a1) (1.16.0)\n",
      "Note: you may need to restart the kernel to use updated packages.\n"
     ]
    }
   ],
   "source": [
    "pip install -i https://test.pypi.org/simple/ masdse203-rdb-to-semi==0.1.3a1"
   ]
  },
  {
   "cell_type": "code",
   "execution_count": 10,
   "id": "319bf806-9631-415d-8373-49d4a63ae633",
   "metadata": {},
   "outputs": [],
   "source": [
    "import pandas as pd"
   ]
  },
  {
   "cell_type": "code",
   "execution_count": 11,
   "id": "f8577b0b-687b-4e13-b512-7b5cf2ab31d7",
   "metadata": {},
   "outputs": [
    {
     "name": "stdout",
     "output_type": "stream",
     "text": [
      "Name: masdse203-rdb-to-semi\n",
      "Version: 0.1.3a1\n",
      "Summary: DSE 203 Relational to Semi Structured Transformation\n",
      "Home-page: https://github.com/javag97/data-transformers/\n",
      "Author: Javier Garcia, Brian Qian\n",
      "Author-email: jag043@ucsd.edu\n",
      "License: UNKNOWN\n",
      "Location: c:\\users\\brian\\anaconda3\\envs\\new\\lib\\site-packages\n",
      "Requires: numpy, pandas, pytest\n",
      "Required-by: \n"
     ]
    }
   ],
   "source": [
    "!pip show masdse203-rdb-to-semi"
   ]
  },
  {
   "cell_type": "code",
   "execution_count": 12,
   "id": "2171f420-2f0d-460e-8eff-d9971f4c5aec",
   "metadata": {},
   "outputs": [],
   "source": [
    "from masdse203_rdb_to_semi.to_json import df_to_json"
   ]
  },
  {
   "cell_type": "code",
   "execution_count": 13,
   "id": "c300a209-2426-45fc-80de-5f92739e01c5",
   "metadata": {},
   "outputs": [],
   "source": [
    "df1 = pd.read_csv('tests/data/two_tables/df_topic.csv')\n",
    "df2 = pd.read_csv(\"tests/data/two_tables/df_doc.csv\")\n",
    "schema = pd.read_csv('tests/data/two_tables/schema.csv')"
   ]
  },
  {
   "cell_type": "code",
   "execution_count": 14,
   "id": "7c313fc6-8cf6-45e9-839c-b496c65a19fd",
   "metadata": {},
   "outputs": [
    {
     "data": {
      "text/plain": [
       "'{\"documents\": [{\"document_id\": 1, \"name_y\": \"aaa\", \"topics\": [{\"name_x\": \"xxx\", \"topic_id\": 1}]}, {\"document_id\": 2, \"name_y\": \"bbb\", \"topics\": [{\"name_x\": \"yyy\", \"topic_id\": 2}, {\"name_x\": \"zzz\", \"topic_id\": 3}]}]}'"
      ]
     },
     "execution_count": 14,
     "metadata": {},
     "output_type": "execute_result"
    }
   ],
   "source": [
    "df_to_json(df1, df2, db_schema=schema)"
   ]
  }
 ],
 "metadata": {
  "kernelspec": {
   "display_name": "Python 3 (ipykernel)",
   "language": "python",
   "name": "python3"
  },
  "language_info": {
   "codemirror_mode": {
    "name": "ipython",
    "version": 3
   },
   "file_extension": ".py",
   "mimetype": "text/x-python",
   "name": "python",
   "nbconvert_exporter": "python",
   "pygments_lexer": "ipython3",
   "version": "3.8.16"
  }
 },
 "nbformat": 4,
 "nbformat_minor": 5
}
